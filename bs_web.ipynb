{
 "cells": [
  {
   "cell_type": "code",
   "execution_count": 3,
   "id": "ed6686e9",
   "metadata": {},
   "outputs": [
    {
     "name": "stderr",
     "output_type": "stream",
     "text": [
      "2025-10-24 11:37:49.257 Thread 'MainThread': missing ScriptRunContext! This warning can be ignored when running in bare mode.\n",
      "2025-10-24 11:37:49.260 Thread 'MainThread': missing ScriptRunContext! This warning can be ignored when running in bare mode.\n",
      "2025-10-24 11:37:49.262 Thread 'MainThread': missing ScriptRunContext! This warning can be ignored when running in bare mode.\n",
      "2025-10-24 11:37:49.264 Thread 'MainThread': missing ScriptRunContext! This warning can be ignored when running in bare mode.\n",
      "2025-10-24 11:37:49.267 Thread 'MainThread': missing ScriptRunContext! This warning can be ignored when running in bare mode.\n",
      "2025-10-24 11:37:49.270 Thread 'MainThread': missing ScriptRunContext! This warning can be ignored when running in bare mode.\n",
      "2025-10-24 11:37:49.272 Thread 'MainThread': missing ScriptRunContext! This warning can be ignored when running in bare mode.\n",
      "2025-10-24 11:37:49.272 Thread 'MainThread': missing ScriptRunContext! This warning can be ignored when running in bare mode.\n",
      "2025-10-24 11:37:49.273 Thread 'MainThread': missing ScriptRunContext! This warning can be ignored when running in bare mode.\n",
      "2025-10-24 11:37:49.274 Thread 'MainThread': missing ScriptRunContext! This warning can be ignored when running in bare mode.\n",
      "2025-10-24 11:37:49.275 Thread 'MainThread': missing ScriptRunContext! This warning can be ignored when running in bare mode.\n",
      "2025-10-24 11:37:49.276 Thread 'MainThread': missing ScriptRunContext! This warning can be ignored when running in bare mode.\n",
      "2025-10-24 11:37:49.277 Thread 'MainThread': missing ScriptRunContext! This warning can be ignored when running in bare mode.\n",
      "2025-10-24 11:37:49.279 Thread 'MainThread': missing ScriptRunContext! This warning can be ignored when running in bare mode.\n",
      "2025-10-24 11:37:49.280 Thread 'MainThread': missing ScriptRunContext! This warning can be ignored when running in bare mode.\n",
      "2025-10-24 11:37:49.282 Thread 'MainThread': missing ScriptRunContext! This warning can be ignored when running in bare mode.\n",
      "2025-10-24 11:37:49.283 Thread 'MainThread': missing ScriptRunContext! This warning can be ignored when running in bare mode.\n",
      "2025-10-24 11:37:49.284 Thread 'MainThread': missing ScriptRunContext! This warning can be ignored when running in bare mode.\n",
      "2025-10-24 11:37:49.285 Thread 'MainThread': missing ScriptRunContext! This warning can be ignored when running in bare mode.\n",
      "2025-10-24 11:37:49.288 Thread 'MainThread': missing ScriptRunContext! This warning can be ignored when running in bare mode.\n",
      "2025-10-24 11:37:49.290 Thread 'MainThread': missing ScriptRunContext! This warning can be ignored when running in bare mode.\n",
      "2025-10-24 11:37:49.292 Thread 'MainThread': missing ScriptRunContext! This warning can be ignored when running in bare mode.\n",
      "2025-10-24 11:37:49.293 Thread 'MainThread': missing ScriptRunContext! This warning can be ignored when running in bare mode.\n",
      "2025-10-24 11:37:49.294 Thread 'MainThread': missing ScriptRunContext! This warning can be ignored when running in bare mode.\n",
      "2025-10-24 11:37:49.296 Thread 'MainThread': missing ScriptRunContext! This warning can be ignored when running in bare mode.\n",
      "2025-10-24 11:37:49.297 Thread 'MainThread': missing ScriptRunContext! This warning can be ignored when running in bare mode.\n",
      "2025-10-24 11:37:49.298 Thread 'MainThread': missing ScriptRunContext! This warning can be ignored when running in bare mode.\n",
      "2025-10-24 11:37:49.300 Thread 'MainThread': missing ScriptRunContext! This warning can be ignored when running in bare mode.\n",
      "2025-10-24 11:37:49.301 Thread 'MainThread': missing ScriptRunContext! This warning can be ignored when running in bare mode.\n",
      "2025-10-24 11:37:49.304 Thread 'MainThread': missing ScriptRunContext! This warning can be ignored when running in bare mode.\n",
      "2025-10-24 11:37:49.306 Thread 'MainThread': missing ScriptRunContext! This warning can be ignored when running in bare mode.\n",
      "2025-10-24 11:37:49.307 Thread 'MainThread': missing ScriptRunContext! This warning can be ignored when running in bare mode.\n",
      "2025-10-24 11:37:49.311 Thread 'MainThread': missing ScriptRunContext! This warning can be ignored when running in bare mode.\n",
      "2025-10-24 11:37:49.312 Thread 'MainThread': missing ScriptRunContext! This warning can be ignored when running in bare mode.\n",
      "2025-10-24 11:37:49.314 Thread 'MainThread': missing ScriptRunContext! This warning can be ignored when running in bare mode.\n",
      "2025-10-24 11:37:49.315 Thread 'MainThread': missing ScriptRunContext! This warning can be ignored when running in bare mode.\n",
      "2025-10-24 11:37:49.375 Thread 'MainThread': missing ScriptRunContext! This warning can be ignored when running in bare mode.\n",
      "2025-10-24 11:37:49.376 Thread 'MainThread': missing ScriptRunContext! This warning can be ignored when running in bare mode.\n",
      "2025-10-24 11:37:49.490 Thread 'MainThread': missing ScriptRunContext! This warning can be ignored when running in bare mode.\n",
      "2025-10-24 11:37:49.766 Thread 'MainThread': missing ScriptRunContext! This warning can be ignored when running in bare mode.\n",
      "2025-10-24 11:37:49.767 Thread 'MainThread': missing ScriptRunContext! This warning can be ignored when running in bare mode.\n"
     ]
    },
    {
     "data": {
      "text/plain": [
       "DeltaGenerator()"
      ]
     },
     "execution_count": 3,
     "metadata": {},
     "output_type": "execute_result"
    }
   ],
   "source": [
    "import numpy as np\n",
    "import matplotlib.pyplot as plt\n",
    "from scipy.stats import norm\n",
    "import streamlit as st\n",
    "import pandas as pd\n",
    "\n",
    "def black_scholes (S,K,T,r,sigma,option =\"call\"):\n",
    "    d1 = (np.log(S/K) + (r + 0.5 * sigma**2) * T) / (sigma * np.sqrt(T))\n",
    "    d2 = d1 - sigma * np.sqrt(T)\n",
    "\n",
    "    if option == \"call\":\n",
    "        return S * norm.cdf(d1) - K * np.exp(-r * T) * norm.cdf(d2)\n",
    "    else: #put option\n",
    "        return K * np.exp(-r * T) * norm.cdf(-d2) - S * norm.cdf(-d1)\n",
    "    \n",
    "#streamlit UI\n",
    "\n",
    "st.sidebar.header(\"BLACK SCHOLES MODEL\")\n",
    "S = st.sidebar.number_input(\"Current Asset Price\",value = 100.0)\n",
    "K = st.sidebar.number_input(\"Strike Price\",value=100.0)\n",
    "T = st.sidebar.number_input(\"Time to Maturity\", value=1.0)\n",
    "sigma = st.sidebar.number_input(\"Volatility(σ)\",value=0.2)\n",
    "r= st.sidebar.number_input(\"Risk Free Interest Rate\",value=0.05)\n",
    "\n",
    "call_price = black_scholes(S,K,T,r,sigma,\"call\")\n",
    "put_price = black_scholes(S,K,T,r,sigma,\"put\")\n",
    "\n",
    "st.success(f\"CALL Value:{call_price:.2f}\")    # will show the output in green\n",
    "st.error(f\"PUT Value:{put_price:.2f}\")         #will show the output as red\n",
    "\n",
    "#heatmap\n",
    "spot_prices = np.linspace(S * 0.8 , S * 1.2 , 10)     # creates 10 evenly spaced spotprices between 80 to 90 %\n",
    "volatilities = np.linspace(0.1 , 0.3 , 10)             #creates evenly spaced volatilities from 10 to 30%\n",
    "call_matrix = np.zeros((len(volatilities),len(spot_prices)))\n",
    "\n",
    "spot_prices_grid , volatilities_grid = np.meshgrid(spot_prices,volatilities)    #Create two 2D grids from your spot prices and volatilities arrays #    Each grid pairs every spot price with every volatility\n",
    "vectorized_bs = np.vectorize(lambda S, v:black_scholes (S,K,T,r,sigma,\"call\"))   #Convert your black_scholes function into a \"vectorized\" function - meaning it can accept and operate elementwise on arrays\n",
    "call_matrix = vectorized_bs(spot_prices_grid,volatilities_grid)\n",
    "\n",
    "st.write(\"Call Option Heatmap\")\n",
    "fig , ax = plt.subplots()\n",
    "c = ax.imshow(call_matrix, aspect =\"auto\", origin = \"lower\" , cmap = \"viridis\")\n",
    "plt.colorbar(c, ax=ax)\n",
    "ax.set_xticks(np.arange(len(spot_prices)))\n",
    "ax.set_yticks(np.arange(len(volatilities)))\n",
    "ax.set_xticklabels([f\"{sp:.2f}\" for sp in spot_prices])\n",
    "ax.set_yticklabels([f\"{v:.2f}\" for v in volatilities])\n",
    "ax.set_xlabel(\"Spot Price (S)\")\n",
    "ax.set_ylabel(\"Volatility (σ)\")\n",
    "st.pyplot(fig)\n"
   ]
  },
  {
   "cell_type": "code",
   "execution_count": null,
   "id": "9d263078",
   "metadata": {},
   "outputs": [],
   "source": []
  }
 ],
 "metadata": {
  "kernelspec": {
   "display_name": "base",
   "language": "python",
   "name": "python3"
  },
  "language_info": {
   "codemirror_mode": {
    "name": "ipython",
    "version": 3
   },
   "file_extension": ".py",
   "mimetype": "text/x-python",
   "name": "python",
   "nbconvert_exporter": "python",
   "pygments_lexer": "ipython3",
   "version": "3.13.5"
  }
 },
 "nbformat": 4,
 "nbformat_minor": 5
}
